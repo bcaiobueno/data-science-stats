{
 "cells": [
  {
   "cell_type": "markdown",
   "metadata": {},
   "source": [
    "## Medidas de Tendência Central\n",
    "\n",
    "As medidas de tendência central mostram o valor representativo em torno do qual os dados tendem a agrupar-se, dão o ponto central em torno do qual os dados se distribuem."
   ]
  },
  {
   "cell_type": "code",
   "execution_count": 1,
   "metadata": {},
   "outputs": [],
   "source": [
    "import matplotlib.pyplot as plt\n",
    "import numpy as np\n",
    "import scipy.stats\n",
    "%matplotlib inline"
   ]
  },
  {
   "cell_type": "code",
   "execution_count": 2,
   "metadata": {
    "scrolled": true
   },
   "outputs": [
    {
     "name": "stdout",
     "output_type": "stream",
     "text": [
      "Valores: [85, 92, 95, 98, 99, 101, 103, 105, 107, 110, 112, 114, 117, 120, 120, 122, 125, 127]\n"
     ]
    }
   ],
   "source": [
    "values = [85,92,95,98,99,101,103,105,107,110,112,114,117,120,120,122,125,127]\n",
    "print('Valores: '+ str(values))"
   ]
  },
  {
   "cell_type": "markdown",
   "metadata": {},
   "source": [
    "### Média\n",
    "\n",
    "Seja (x\n",
    "1\n",
    ", x\n",
    "2\n",
    ", x\n",
    "3\n",
    ", ... , \n",
    "x\n",
    "n\n",
    ") uma amostra de \n",
    "n\n",
    "observações de certa variável \n",
    "X\n",
    ". Para calcular a média de um conjunto de valores é necessário somar \n",
    "todos os valores obtidos e dividir por \n",
    "n\n",
    "que representa o tamanho da \n",
    "amostra. "
   ]
  },
  {
   "cell_type": "code",
   "execution_count": 3,
   "metadata": {},
   "outputs": [
    {
     "name": "stdout",
     "output_type": "stream",
     "text": [
      "Média: 108.444444444\n"
     ]
    }
   ],
   "source": [
    "# Média\n",
    "media = np.mean(values)\n",
    "print('Média: ' + str(media))"
   ]
  },
  {
   "cell_type": "markdown",
   "metadata": {},
   "source": [
    "### Moda\n",
    "\n",
    "Dado um conjunto de valores, a Moda (\n",
    "Mo\n",
    ") desses \n",
    "valores será aquele que se repetir o maior número de vezes"
   ]
  },
  {
   "cell_type": "code",
   "execution_count": 4,
   "metadata": {},
   "outputs": [
    {
     "name": "stdout",
     "output_type": "stream",
     "text": [
      "Moda: 120\n"
     ]
    }
   ],
   "source": [
    "# Moda\n",
    "counts = np.bincount(values)\n",
    "moda = np.argmax(counts)\n",
    "print('Moda: '+ str(moda))"
   ]
  },
  {
   "cell_type": "markdown",
   "metadata": {},
   "source": [
    "### Mediana\n",
    "\n",
    "É o valor que divide o conjunto de dados ao meio, deixando os 50% \n",
    "menores valores de um lado e os 50% maiores valores do outro lado."
   ]
  },
  {
   "cell_type": "code",
   "execution_count": 5,
   "metadata": {},
   "outputs": [
    {
     "name": "stdout",
     "output_type": "stream",
     "text": [
      "Mediana: 108.5\n"
     ]
    }
   ],
   "source": [
    "# Mediana\n",
    "mediana = np.median(values)\n",
    "print('Mediana: ' + str(mediana))"
   ]
  },
  {
   "cell_type": "markdown",
   "metadata": {},
   "source": [
    "## Medidas de Dispersão\n",
    "São medidas que caracterizam a dispersão ou variabilidade dos dados.\n",
    "\n",
    "A dispersão (variabilidade) de um conjunto de dados é pequena \n",
    "se os dados estão concentrados em torno da média, e é grande se \n",
    "os dados estão muito afastados da média. "
   ]
  },
  {
   "cell_type": "markdown",
   "metadata": {},
   "source": [
    "### Amplitude\n",
    "É definida como sendo a diferença entre o maior e o menor valor \n",
    "do conjunto de \n",
    "dados"
   ]
  },
  {
   "cell_type": "code",
   "execution_count": 6,
   "metadata": {},
   "outputs": [
    {
     "name": "stdout",
     "output_type": "stream",
     "text": [
      "Amplitude: 42\n"
     ]
    }
   ],
   "source": [
    "# Valor Máximo, Mínimo e Amplitude\n",
    "max = np.max(values)\n",
    "min = np.min(values)\n",
    "amplitude = max - min\n",
    "print('Amplitude: ' + str(amplitude)) "
   ]
  },
  {
   "cell_type": "markdown",
   "metadata": {},
   "source": [
    "### Desvio Padrão\n",
    "\n",
    "Desvio padrão é uma medida de dispersão, ou seja, é uma medida que indica o quanto o conjunto de dados é uniforme."
   ]
  },
  {
   "cell_type": "code",
   "execution_count": 7,
   "metadata": {},
   "outputs": [
    {
     "name": "stdout",
     "output_type": "stream",
     "text": [
      "Desvio Padrão: 11.7531188401\n"
     ]
    }
   ],
   "source": [
    "# Desvio Padrão\n",
    "desvio_padrao = np.std(values)\n",
    "print('Desvio Padrão: '+ str(desvio_padrao))"
   ]
  },
  {
   "cell_type": "markdown",
   "metadata": {},
   "source": [
    "### Variância\n",
    "\n",
    "A unidade de medida da variância \n",
    "equivale à unidade de medida dos dados ao quadrado. Dessa \n",
    "maneira, é mais comum trabalharmos com a raiz quadrada da \n",
    "variância, ou seja, com o \n",
    "desvio padrão. "
   ]
  },
  {
   "cell_type": "code",
   "execution_count": 8,
   "metadata": {},
   "outputs": [
    {
     "name": "stdout",
     "output_type": "stream",
     "text": [
      "Variancia: 138.135802469\n"
     ]
    }
   ],
   "source": [
    "# Variância\n",
    "variancia = np.var(values)\n",
    "print('Variancia: '+ str(variancia))"
   ]
  },
  {
   "cell_type": "markdown",
   "metadata": {},
   "source": [
    "### Gráfico Distribuição normal / gaussiana\n",
    "\n",
    "Eventos aleatórios que seguem este padrão enquadram-se na chamada \"distribuição normal\", representada pela curva também conhecida como Curva de Gauss ou Curva do Sino (Bell Curve)"
   ]
  },
  {
   "cell_type": "code",
   "execution_count": 9,
   "metadata": {},
   "outputs": [
    {
     "data": {
      "image/png": "[encoded data removed]",
      "text/plain": [
       "<Figure size 432x288 with 1 Axes>"
      ]
     },
     "metadata": {
      "needs_background": "light"
     },
     "output_type": "display_data"
    }
   ],
   "source": [
    "# Plotar o Gráfico Distribuição Normal Gaussiana\n",
    "x = np.linspace(min, max, 100)\n",
    "\n",
    "y = scipy.stats.norm.pdf(x,media,desvio_padrao)\n",
    "\n",
    "plt.plot(x,y, color='blue')\n",
    "\n",
    "plt.grid()\n",
    "\n",
    "plt.xlim(min,max)\n",
    "plt.ylim(0)\n",
    "\n",
    "plt.title('Distribuição Normal (Gaussiana)',fontsize=18)\n",
    "\n",
    "plt.xlabel('Valores')\n",
    "plt.ylabel('Distribuição Normal')\n",
    "\n",
    "plt.savefig(\"normal_distribution.png\")\n",
    "plt.show()"
   ]
  },
  {
   "cell_type": "markdown",
   "metadata": {},
   "source": [
    "### Coeficiente de Variação\n",
    "\n",
    "O\n",
    "desvio\n",
    "padrão\n",
    "embora\n",
    "seja\n",
    "a\n",
    "medida\n",
    "de\n",
    "dispersão\n",
    "mais\n",
    "utilizada,\n",
    "ela\n",
    "mede\n",
    "a\n",
    "dispersão\n",
    "em\n",
    "termos\n",
    "absolutos\n",
    ".O\n",
    "coeficiente\n",
    "de\n",
    "variação\n",
    "definido\n",
    "abaixo mede\n",
    "a\n",
    "dispersão\n",
    "em\n",
    "termos\n",
    "relativos\n",
    ".\n",
    "\n",
    "CV = s/X.100\n",
    "\n",
    "Onde,\n",
    "s → é o desvio padrão\n",
    "X → é a média dos dados\n",
    "CV → é o coeficiente de variação\n",
    "\n",
    "O\n",
    "CV\n",
    "é\n",
    "expresso\n",
    "em\n",
    "porcentagem. De uma forma geral, se o CV:\n",
    "\n",
    "For menor ou igual a 15% → baixa dispersão: dados homogêneos\n",
    "For entre 15 e 30% → média dispersão\n",
    "For maior que 30% → alta dispersão: dados heterogêneos\n"
   ]
  },
  {
   "cell_type": "code",
   "execution_count": 10,
   "metadata": {},
   "outputs": [
    {
     "name": "stdout",
     "output_type": "stream",
     "text": [
      "           Valores  Média  Desvio Padrão  Coeficiente de Variação\n",
      "0        [1, 2, 3]    2.0           0.82                    41.00\n",
      "1  [101, 102, 103]  102.0           0.82                     0.80\n",
      "2  [100, 200, 300]  200.0          81.65                    40.83\n"
     ]
    }
   ],
   "source": [
    "import pandas as pd\n",
    "\n",
    "v1 = [1,2,3]\n",
    "v2 = [101,102,103]\n",
    "v3 = [100,200,300]\n",
    "\n",
    "media_v1 = np.mean(v1)\n",
    "media_v2 = np.mean(v2)\n",
    "media_v3 = np.mean(v3)\n",
    "\n",
    "desv_pad1 = round(np.std(v1),2)\n",
    "desv_pad2 = round(np.std(v2),2)\n",
    "desv_pad3 = round(np.std(v3),2)\n",
    "\n",
    "coef_var1 = round(desv_pad1/media_v1*100,2)\n",
    "coef_var2 = round(desv_pad2/media_v2*100,2)\n",
    "coef_var3 = round(desv_pad3/media_v3*100,2)\n",
    "\n",
    "data = {\n",
    "    'Valores': [v1,v2,v3],\n",
    "    'Média':[media_v1,media_v2,media_v3],\n",
    "    'Desvio Padrão': [desv_pad1,desv_pad2,desv_pad3],\n",
    "    'Coeficiente de Variação': [coef_var1,coef_var2,coef_var3]\n",
    "}\n",
    "\n",
    "df = pd.DataFrame(data)\n",
    "print(df)\n"
   ]
  },
  {
   "cell_type": "markdown",
   "metadata": {},
   "source": [
    "### Medidas de Posição Relativa\n",
    "\n",
    "#### Quartis\n",
    "Assim como a mediana divide os dados em duas partes \n",
    "iguais, os três quartis, denotados por Q1\n",
    ", Q2\n",
    "e Q3\n",
    ", dividem \n",
    "as observações ordenadas (dispostas em ordem crescente) \n",
    "em quatro partes aproximadamente iguais, ou seja, há cerca \n",
    "de 25% dos dados em cada grupo. "
   ]
  },
  {
   "cell_type": "code",
   "execution_count": 11,
   "metadata": {},
   "outputs": [
    {
     "name": "stdout",
     "output_type": "stream",
     "text": [
      "Q1: 99.5\n",
      "Q2: 108.5\n",
      "Q3: 119.25\n"
     ]
    }
   ],
   "source": [
    "data = np.array([85,92,95,98,99,101,103,105,107,110,112,114,117,120,120,122,125,127])\n",
    "q1 = np.percentile(data,25)\n",
    "q2 = np.percentile(data,50)\n",
    "q3 = np.percentile(data,75)\n",
    "print('Q1: '+str(q1))\n",
    "print('Q2: '+str(q2))\n",
    "print('Q3: '+str(q3))"
   ]
  },
  {
   "cell_type": "markdown",
   "metadata": {},
   "source": [
    "#### Decis\n",
    "\n",
    "Analogamente, há nove \n",
    "decis\n",
    ", denotados por D\n",
    "1\n",
    ", D\n",
    "2\n",
    ", D\n",
    "3\n",
    ", \n",
    "..., D\n",
    "9\n",
    ", que dividem os dados em 10 grupos com cerca de \n",
    "10% dos dados em cada grupo"
   ]
  },
  {
   "cell_type": "code",
   "execution_count": 12,
   "metadata": {},
   "outputs": [
    {
     "name": "stdout",
     "output_type": "stream",
     "text": [
      "[  85.    94.1   98.4  101.2  104.6  108.5  112.4  116.7  120.   122.9]\n"
     ]
    }
   ],
   "source": [
    "decil = np.percentile(data, np.arange(0, 100, 10))\n",
    "print(decil)"
   ]
  },
  {
   "cell_type": "markdown",
   "metadata": {},
   "source": [
    "#### Percentis\n",
    "Há, finalmente, 99 percentis, que dividem os dados em \n",
    "100 grupos com cerca de 1% dos dados em cada grupo."
   ]
  },
  {
   "cell_type": "code",
   "execution_count": 13,
   "metadata": {},
   "outputs": [
    {
     "name": "stdout",
     "output_type": "stream",
     "text": [
      "[  85.     86.19   87.38   88.57   89.76   90.95   92.06   92.57   93.08\n",
      "   93.59   94.1    94.61   95.12   95.63   96.14   96.65   97.16   97.67\n",
      "   98.06   98.23   98.4    98.57   98.74   98.91   99.16   99.5    99.84\n",
      "  100.18  100.52  100.86  101.2   101.54  101.88  102.22  102.56  102.9\n",
      "  103.24  103.58  103.92  104.26  104.6   104.94  105.28  105.62  105.96\n",
      "  106.3   106.64  106.98  107.48  107.99  108.5   109.01  109.52  110.02\n",
      "  110.36  110.7   111.04  111.38  111.72  112.06  112.4   112.74  113.08\n",
      "  113.42  113.76  114.15  114.66  115.17  115.68  116.19  116.7   117.21\n",
      "  117.72  118.23  118.74  119.25  119.76  120.    120.    120.    120.\n",
      "  120.    120.    120.22  120.56  120.9   121.24  121.58  121.92  122.39\n",
      "  122.9   123.41  123.92  124.43  124.94  125.3   125.64  125.98  126.32\n",
      "  126.66]\n"
     ]
    }
   ],
   "source": [
    "percentil = np.percentile(data, np.arange(0, 100, 1))\n",
    "print(percentil)"
   ]
  },
  {
   "cell_type": "markdown",
   "metadata": {},
   "source": [
    "### Escore z ou escore padronizado\n",
    "O objetivo de se calcular o escore z é expressar em \n",
    "unidades de desvio padrão quanto um determinado número \n",
    "está distante da média.\n",
    "\n",
    "Para o cálculo do escore z de um único elemento é necessário conhecer a média (X) e o desvio padrão (s)\n",
    "\n",
    "Escore z = x - X / s\n",
    "\n",
    "Onde x é o valor que se deseja saber o escore z"
   ]
  },
  {
   "cell_type": "code",
   "execution_count": 14,
   "metadata": {},
   "outputs": [
    {
     "name": "stdout",
     "output_type": "stream",
     "text": [
      "Escore Z: 0.63\n"
     ]
    }
   ],
   "source": [
    "elemento_x = 15\n",
    "media_X = 10.8\n",
    "desvio_s = 6.7\n",
    "escore_z = (elemento_x - media_X) / desvio_s\n",
    "print('Escore Z: '+ str(round(escore_z,2)))"
   ]
  },
  {
   "cell_type": "markdown",
   "metadata": {},
   "source": [
    "Para o cálculo do escore z de uma lista de elementos basta utilizar a biblioteca scipy"
   ]
  },
  {
   "cell_type": "code",
   "execution_count": 15,
   "metadata": {},
   "outputs": [
    {
     "data": {
      "text/plain": [
       "array([-1.373161  , -1.21744171, -1.06172243, -0.90600314, -0.75028385,\n",
       "        0.49547047,  0.65118975,  0.80690904,  0.96262833,  1.11834762,\n",
       "        1.27406691])"
      ]
     },
     "execution_count": 15,
     "metadata": {},
     "output_type": "execute_result"
    }
   ],
   "source": [
    "from scipy import stats\n",
    "z_data = [2,3,4,5,6,14,15,16,17,18,19]\n",
    "stats.zscore(z_data)"
   ]
  }
 ],
 "metadata": {
  "kernelspec": {
   "display_name": "Python 3",
   "language": "python",
   "name": "python3"
  },
  "language_info": {
   "codemirror_mode": {
    "name": "ipython",
    "version": 3
   },
   "file_extension": ".py",
   "mimetype": "text/x-python",
   "name": "python",
   "nbconvert_exporter": "python",
   "pygments_lexer": "ipython3",
   "version": "3.6.7"
  }
 },
 "nbformat": 4,
 "nbformat_minor": 2
}
